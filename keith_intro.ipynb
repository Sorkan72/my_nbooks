{
 "cells": [
  {
   "cell_type": "markdown",
   "id": "ad0eed28-98ef-48ab-a006-9c8c102979ca",
   "metadata": {},
   "source": [
    "# My First Notebook"
   ]
  },
  {
   "cell_type": "markdown",
   "id": "3f44fd94-8dbe-4cfe-90c4-81a2a23b2f7c",
   "metadata": {},
   "source": [
    "## Devin Keith"
   ]
  },
  {
   "cell_type": "code",
   "execution_count": null,
   "id": "bee1882b-ad46-48e6-b271-10249d978b53",
   "metadata": {},
   "outputs": [],
   "source": [
    "import random\n",
    "\n",
    "nums = [random.randint(30, 100) for i in range(40)]"
   ]
  },
  {
   "cell_type": "code",
   "execution_count": null,
   "id": "9191dc11-16e1-4ef9-b8a1-2df3f17786ae",
   "metadata": {},
   "outputs": [],
   "source": [
    "nums.sort()\n",
    "\n",
    "for num in nums:\n",
    "    print(num, end=\" \")"
   ]
  },
  {
   "cell_type": "markdown",
   "id": "c7bff2cb-a681-464a-90df-3a9f9d3a8d65",
   "metadata": {},
   "source": [
    "## The Sample Mean\n",
    "\n",
    "- The \"sample mean\" is the average of a set of numbers/sample, which is typically taken from a larger population.\n",
    "- To calculate it, start with your sample of data:\n",
    "- e.g: 5, 10, 15, 20, 25\n",
    "- Count the number of points of data: = 5\n",
    "- SUM up each point of data: = 75\n",
    "- Divide this sum by the count of the data: 75/5 = 15\n",
    "- So the Sample Mean of [5, 10, 15, 20, 25 ] is 15\n",
    "- The Forumla for \"sample mean\" is shown below:"
   ]
  },
  {
   "cell_type": "markdown",
   "id": "7e707160-84fc-4e57-b529-8f540630fb9d",
   "metadata": {},
   "source": [
    "$\\Large \\overline{x} = \\frac{\\sum x_i}{n}$"
   ]
  },
  {
   "cell_type": "code",
   "execution_count": null,
   "id": "6d48c2c0-dbca-455b-a0df-b199b90cbebb",
   "metadata": {},
   "outputs": [],
   "source": [
    "sample_mean = sum(nums)/len(nums)\n",
    "\n",
    "print(f\"{sample_mean:.2f}\")"
   ]
  },
  {
   "cell_type": "markdown",
   "id": "5afa4da2-e650-4a44-aa5c-a49f347c66ac",
   "metadata": {},
   "source": [
    "## The Median\n",
    "\n",
    "https://www.geeksforgeeks.org/median/"
   ]
  },
  {
   "cell_type": "code",
   "execution_count": null,
   "id": "3a6c5793-ea56-4f25-8878-09962e85c5f0",
   "metadata": {},
   "outputs": [],
   "source": [
    "# If you have an even number of values, the median would have to be the average of the two middle numbers of the sorted data\n",
    "\n",
    "# The nums list in this notebook is 40 values (even) so we will just directly pull the middle\n",
    "nums.sort() # incase not sorted\n",
    "middle_value1 = nums[19]\n",
    "middle_value2 = nums[20]\n",
    "\n",
    "median = (middle_value1 + middle_value2)/2\n",
    "\n",
    "print(f\"{median:.1f}\")"
   ]
  }
 ],
 "metadata": {
  "kernelspec": {
   "display_name": "Python [conda env:anaconda3] *",
   "language": "python",
   "name": "conda-env-anaconda3-py"
  },
  "language_info": {
   "codemirror_mode": {
    "name": "ipython",
    "version": 3
   },
   "file_extension": ".py",
   "mimetype": "text/x-python",
   "name": "python",
   "nbconvert_exporter": "python",
   "pygments_lexer": "ipython3",
   "version": "3.12.7"
  }
 },
 "nbformat": 4,
 "nbformat_minor": 5
}
